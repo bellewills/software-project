{
 "cells": [
  {
   "cell_type": "code",
   "execution_count": 2,
   "id": "406b52c8-1012-4a3f-83d3-ef68c04dd390",
   "metadata": {},
   "outputs": [],
   "source": [
    "from enum import Enum\n",
    "\n",
    "class State(Enum):\n",
    "    HAPPY = \"Happy\"\n",
    "    HUNGRY = \"Hungry\"\n",
    "    LONELY = \"Lonely\"\n",
    "    SAD = \"Sad\"\n",
    "    SCARED = \"Scared\"\n",
    "    SICK = \"Sick\"\n",
    "    DEAD = \"Dead\"\n"
   ]
  },
  {
   "cell_type": "code",
   "execution_count": 11,
   "id": "b881c9e6-aad2-428f-ae89-e7a6bf86491e",
   "metadata": {},
   "outputs": [],
   "source": [
    "class Pet:\n",
    "    def __init__(self):\n",
    "        self.state = State.HAPPY\n",
    "        self.hunger_level = 0\n",
    "        self.attention_level = 100\n",
    "        self.temperature = 22.0\n",
    "        self.scared_level = 0\n",
    "        self.sickness_level = 0\n",
    "\n",
    "        # New duration trackers\n",
    "        self.state_duration = 0\n",
    "        self.sick_duration = 0\n",
    "\n",
    "    def feed(self):\n",
    "        # feeding reduces hunger\n",
    "        self.hunger_level = max(0, self.hunger_level - 10)\n",
    "\n",
    "    def interact(self):\n",
    "        # interacting increases attention\n",
    "        self.attention_level = min(100, self.attention_level + 10)\n",
    "\n",
    "    def check_temperature(self):\n",
    "        # Gets sick if too cold or hot\n",
    "        if self.temperature < 15 or self.temperature > 30:\n",
    "            self.sickness_level += 10\n",
    "\n",
    "    def hear_noise(self):\n",
    "        # Noise makes the pet scared\n",
    "        self.scared_level += 5\n",
    "\n",
    "    def update_state(self):\n",
    "        # Determine new state\n",
    "        if self.sickness_level > 50:\n",
    "            new_state = State.SICK\n",
    "        elif self.hunger_level > 70:\n",
    "            new_state = State.HUNGRY\n",
    "        elif self.attention_level < 30:\n",
    "            new_state = State.LONELY\n",
    "        elif self.scared_level > 40:\n",
    "            new_state = State.SCARED\n",
    "        else:\n",
    "            new_state = State.HAPPY\n",
    "\n",
    "        #Track how long the pet has been in the same state\n",
    "        if new_state == self.state:\n",
    "            self.state_duration += 1\n",
    "        else:\n",
    "            self.state_duration = 0\n",
    "\n",
    "        self.state = new_state  # Updates current state\n",
    "\n",
    "        # Escalate to SICK if in bad state too long\n",
    "        if self.state in [State.HUNGRY, State.LONELY, State.SAD, State.SCARED] and self.state_duration > 5:\n",
    "            self.state = State.SICK\n",
    "            self.state_duration = 0\n",
    "\n",
    "        # Track sick duration\n",
    "        if self.state == State.SICK:\n",
    "            self.sick_duration += 1\n",
    "        else:\n",
    "            self.sick_duration = 0\n",
    "\n",
    "        # If sick for too long, pet dies\n",
    "        if self.sick_duration > 5:\n",
    "            self.state = State.DEAD\n"
   ]
  },
  {
   "cell_type": "code",
   "execution_count": 13,
   "id": "7ad5a152-0092-48cd-909c-d26f62b6d3f6",
   "metadata": {},
   "outputs": [
    {
     "name": "stdout",
     "output_type": "stream",
     "text": [
      "Cycle: State = State.HUNGRY, Duration = 0, Sick Duration = 0\n",
      "Cycle: State = State.HUNGRY, Duration = 1, Sick Duration = 0\n",
      "Cycle: State = State.HUNGRY, Duration = 2, Sick Duration = 0\n",
      "Cycle: State = State.HUNGRY, Duration = 3, Sick Duration = 0\n",
      "Cycle: State = State.HUNGRY, Duration = 4, Sick Duration = 0\n",
      "Cycle: State = State.HUNGRY, Duration = 5, Sick Duration = 0\n",
      "Cycle: State = State.SICK, Duration = 0, Sick Duration = 1\n"
     ]
    }
   ],
   "source": [
    "pet = Pet()\n",
    "pet.hunger_level = 80\n",
    "\n",
    "# Simulate 7 cycles of the pet being hungry\n",
    "for _ in range(7):\n",
    "    pet.update_state()\n",
    "    print(f\"Cycle: State = {pet.state}, Duration = {pet.state_duration}, Sick Duration = {pet.sick_duration}\")\n"
   ]
  },
  {
   "cell_type": "code",
   "execution_count": 14,
   "id": "acfeb099-26c2-415f-a65d-2730e633f6d8",
   "metadata": {},
   "outputs": [
    {
     "name": "stdout",
     "output_type": "stream",
     "text": [
      "Cycle 1: Temp = 35, Sickness Level = 10, State = State.HAPPY\n",
      "Cycle 2: Temp = 35, Sickness Level = 20, State = State.HAPPY\n",
      "Cycle 3: Temp = 35, Sickness Level = 30, State = State.HAPPY\n"
     ]
    }
   ],
   "source": [
    "pet = Pet()\n",
    "\n",
    "# Make the room temperature too hot\n",
    "pet.temperature = 35\n",
    "\n",
    "# Simulate several checks\n",
    "for i in range(3):\n",
    "    pet.check_temperature()\n",
    "    pet.update_state()\n",
    "    print(f\"Cycle {i+1}: Temp = {pet.temperature}, Sickness Level = {pet.sickness_level}, State = {pet.state}\")\n"
   ]
  },
  {
   "cell_type": "code",
   "execution_count": 15,
   "id": "0238456e-7bac-4a32-a908-629c1a4018b8",
   "metadata": {},
   "outputs": [
    {
     "name": "stdout",
     "output_type": "stream",
     "text": [
      "Cycle 1: Scared Level = 5, State = State.HAPPY\n",
      "Cycle 2: Scared Level = 10, State = State.HAPPY\n",
      "Cycle 3: Scared Level = 15, State = State.HAPPY\n",
      "Cycle 4: Scared Level = 20, State = State.HAPPY\n",
      "Cycle 5: Scared Level = 25, State = State.HAPPY\n",
      "Cycle 6: Scared Level = 30, State = State.HAPPY\n",
      "Cycle 7: Scared Level = 35, State = State.HAPPY\n",
      "Cycle 8: Scared Level = 40, State = State.HAPPY\n",
      "Cycle 9: Scared Level = 45, State = State.SCARED\n",
      "Cycle 10: Scared Level = 50, State = State.SCARED\n"
     ]
    }
   ],
   "source": [
    "pet = Pet()\n",
    "\n",
    "# Simulate repeated loud noise\n",
    "for i in range(10):\n",
    "    pet.hear_noise()\n",
    "    pet.update_state()\n",
    "    print(f\"Cycle {i+1}: Scared Level = {pet.scared_level}, State = {pet.state}\")\n"
   ]
  },
  {
   "cell_type": "code",
   "execution_count": 16,
   "id": "660b7009-6b78-4a96-b754-1123e0cb16e9",
   "metadata": {},
   "outputs": [
    {
     "name": "stdout",
     "output_type": "stream",
     "text": [
      "Cycle 1: Attention = 85, State = State.HAPPY\n",
      "Cycle 2: Attention = 70, State = State.HAPPY\n",
      "Cycle 3: Attention = 55, State = State.HAPPY\n",
      "Cycle 4: Attention = 40, State = State.HAPPY\n",
      "Cycle 5: Attention = 25, State = State.LONELY\n",
      "Cycle 6: Attention = 10, State = State.LONELY\n"
     ]
    }
   ],
   "source": [
    "pet = Pet()\n",
    "\n",
    "# Lower attention slowly (simulate no interaction)\n",
    "for i in range(6):\n",
    "    pet.attention_level -= 15\n",
    "    pet.update_state()\n",
    "    print(f\"Cycle {i+1}: Attention = {pet.attention_level}, State = {pet.state}\")\n"
   ]
  },
  {
   "cell_type": "code",
   "execution_count": 17,
   "id": "a46e40ba-2ef3-4fe3-9e17-f6f0317afe8f",
   "metadata": {},
   "outputs": [
    {
     "name": "stdout",
     "output_type": "stream",
     "text": [
      "Cycle 1: State = State.HUNGRY, Sickness = 10, Scared = 5, Attention = 20\n",
      "Cycle 2: State = State.HUNGRY, Sickness = 20, Scared = 10, Attention = 20\n",
      "Cycle 3: State = State.HUNGRY, Sickness = 30, Scared = 15, Attention = 20\n",
      "Cycle 4: State = State.HUNGRY, Sickness = 40, Scared = 20, Attention = 20\n",
      "Cycle 5: State = State.HUNGRY, Sickness = 50, Scared = 25, Attention = 20\n"
     ]
    }
   ],
   "source": [
    "pet = Pet()\n",
    "pet.temperature = 10  # too cold\n",
    "pet.hunger_level = 75\n",
    "pet.attention_level = 20\n",
    "\n",
    "for i in range(5):\n",
    "    pet.check_temperature()\n",
    "    pet.hear_noise()\n",
    "    pet.update_state()\n",
    "    print(f\"Cycle {i+1}: State = {pet.state}, Sickness = {pet.sickness_level}, Scared = {pet.scared_level}, Attention = {pet.attention_level}\")\n"
   ]
  },
  {
   "cell_type": "code",
   "execution_count": null,
   "id": "22f43a28-e1cf-4f07-9314-4dbdcd892f3c",
   "metadata": {},
   "outputs": [],
   "source": []
  }
 ],
 "metadata": {
  "kernelspec": {
   "display_name": "Python 3 (ipykernel)",
   "language": "python",
   "name": "python3"
  },
  "language_info": {
   "codemirror_mode": {
    "name": "ipython",
    "version": 3
   },
   "file_extension": ".py",
   "mimetype": "text/x-python",
   "name": "python",
   "nbconvert_exporter": "python",
   "pygments_lexer": "ipython3",
   "version": "3.12.3"
  }
 },
 "nbformat": 4,
 "nbformat_minor": 5
}
